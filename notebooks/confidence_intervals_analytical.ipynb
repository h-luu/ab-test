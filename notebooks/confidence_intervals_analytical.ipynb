{
 "cells": [
  {
   "cell_type": "markdown",
   "id": "f630d3cd",
   "metadata": {},
   "source": [
    "### Confidence intervals of sample mean"
   ]
  },
  {
   "cell_type": "markdown",
   "id": "dad194ee",
   "metadata": {},
   "source": [
    "If our A/B test shows a difference between our Treament and Control groups, how do we interpret that? In this notebook, we examine how to derive confidence intervals for experimental results.\n",
    "\n",
    "To obtain confidence intervals, we rely on the Central Limit Theorem, but we need a measure for the standard error of our sample mean.  There are a few ways to obtain this standard error:\n",
    "- Analytical\n",
    "- Empirical\n",
    "- Bootstrap\n",
    "- Delta method\n",
    "\n",
    "In the following example, we will illustrate the analytical method."
   ]
  },
  {
   "cell_type": "markdown",
   "id": "57c28d54",
   "metadata": {},
   "source": [
    "X is binomial (yes/no)\n",
    "\n",
    "X can be conversion (yes/no), clicked an ad (yes/no), signed up for newsletter or membership (yes/no)"
   ]
  },
  {
   "cell_type": "code",
   "execution_count": null,
   "id": "fe7459bc",
   "metadata": {},
   "outputs": [],
   "source": [
    "conversion = np.random.binomial(n=1, p=0.1, size=1000)"
   ]
  }
 ],
 "metadata": {
  "language_info": {
   "name": "python"
  }
 },
 "nbformat": 4,
 "nbformat_minor": 5
}
