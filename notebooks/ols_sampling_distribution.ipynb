{
 "cells": [
  {
   "cell_type": "markdown",
   "id": "e4613b43",
   "metadata": {},
   "source": [
    "# Sampling distribution of OLS estimator"
   ]
  },
  {
   "cell_type": "markdown",
   "id": "a54178c7",
   "metadata": {},
   "source": [
    "When the sampling distribution of OLS estimator is approximately normal, we can draw valid inferences about the estimated coefficients. This is necessary to determine statistical significance.\n",
    "\n",
    "In this notebook, we consider a few simple data generating setup, and examine when the sampling distribution of OLS estimator is approximately normal.  We will structure our analysis based on the following grid.\n",
    "\n",
    "\n",
    "\n",
    "| Sample size | Error term distribution | Error term variance |\n",
    "|:-:|:-:|:-:|\n",
    "|Small|Normal|Homoskedastic|\n",
    "|Small|Normal|Heteroskedastic|\n",
    "|Small|Non-normal|Homoskedastic|\n",
    "|Small|Non-normal|Heteroskedastic|\n",
    "|Large|Normal|Homoskedastic|\n",
    "|Large|Normal|Heteroskedastic|\n",
    "|Large|Non-normal|Homoskedastic|\n",
    "|Large|Non-normal|Heteroskedastic|\n",
    "\n",
    "Note:\n",
    "- Homoskedastic = The variance of the error term does not depend on the independent variables X.  Error term has constant variance.\n",
    "- Heteroskeastic = The variance of the error term depends on the independent variables X.  Error term has non-constant variance."
   ]
  },
  {
   "cell_type": "markdown",
   "id": "d14cba78",
   "metadata": {},
   "source": [
    "## Finite sample, normal and homoskedastic errors"
   ]
  },
  {
   "cell_type": "markdown",
   "id": "bb5fcddf",
   "metadata": {},
   "source": []
  }
 ],
 "metadata": {
  "language_info": {
   "name": "python"
  }
 },
 "nbformat": 4,
 "nbformat_minor": 5
}
