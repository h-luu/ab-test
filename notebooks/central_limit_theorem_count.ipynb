{
 "cells": [
  {
   "cell_type": "markdown",
   "id": "dc84dd91",
   "metadata": {},
   "source": [
    "X is count-based\n",
    "Number of purchases (Poisson)\n",
    "Number of pages viewed (Poisson)"
   ]
  }
 ],
 "metadata": {
  "language_info": {
   "name": "python"
  }
 },
 "nbformat": 4,
 "nbformat_minor": 5
}
