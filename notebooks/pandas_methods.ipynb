{
 "cells": [
  {
   "cell_type": "markdown",
   "id": "23308390",
   "metadata": {},
   "source": [
    "# Pandas methods"
   ]
  },
  {
   "cell_type": "markdown",
   "id": "6be2cefd",
   "metadata": {},
   "source": [
    "In this notebook, we use pandas to solve a few basic data manipulation exercises."
   ]
  },
  {
   "cell_type": "code",
   "execution_count": 1,
   "id": "19a2e527",
   "metadata": {},
   "outputs": [],
   "source": [
    "import pandas as pd\n",
    "import numpy as np"
   ]
  },
  {
   "cell_type": "markdown",
   "id": "b97cc818",
   "metadata": {},
   "source": [
    "## Exercise 1: Clean and Combine User Data\n",
    "\n",
    "We’re given two DataFrames:\n",
    "\n",
    "`df_users`: Contains user information with columns `['user_id', 'name', 'email']`\n",
    "\n",
    "`df_purchases`: Contains purchase logs with columns `['user_id', 'purchase_amount', 'date']`\n",
    "\n"
   ]
  },
  {
   "cell_type": "code",
   "execution_count": 2,
   "id": "cf9edc44",
   "metadata": {},
   "outputs": [],
   "source": [
    "# User data\n",
    "df_users = pd.DataFrame({\n",
    "    'user_id': [1, 2, 3, 4],\n",
    "    'name': ['Alice', 'Bob', 'Charlie', 'David'],\n",
    "    'email': ['alice@example.com', None, 'charlie@example.com', 'david@example.com']\n",
    "})\n",
    "\n",
    "# Purchase log\n",
    "df_purchases = pd.DataFrame({\n",
    "    'user_id': [1, 1, 2, 3, 5],\n",
    "    'purchase_amount': [120.0, 35.0, None, 99.99, 45.0],\n",
    "    'date': ['2023-11-01', '2023-11-02', '2023-11-05', '2023-11-06', '2023-11-10']\n",
    "})"
   ]
  },
  {
   "cell_type": "markdown",
   "id": "c75f18dc",
   "metadata": {},
   "source": [
    "Rename the column `name` to `user_name`.\n",
    "\n",
    "Merge the two DataFrames so we have user names alongside their purchase logs.\n",
    "\n",
    "Drop any rows in the merged data where the email is missing.\n",
    "\n",
    "Fill any missing `purchase_amount` with 0.\n",
    "\n",
    "Convert the `date` column to `datetime` format."
   ]
  },
  {
   "cell_type": "code",
   "execution_count": 3,
   "id": "8d063d08",
   "metadata": {},
   "outputs": [],
   "source": [
    "# Rename the column `name` to `user_name`.\n",
    "df_users.rename(columns={\"name\" : \"user_name\"}, inplace=True)\n",
    "\n",
    "# Merge the two DataFrames so we have user names alongside their purchase logs.\n",
    "df_merged = pd.merge(left=df_users, right=df_purchases, how=\"outer\", on=\"user_id\")\n",
    "\n",
    "# Drop any rows in the merged data where the email is missing.\n",
    "df_merged.dropna(subset=[\"email\"], inplace=True)\n",
    "\n",
    "# Fill any missing `purchase_amount` with 0.\n",
    "df_merged.fillna({\"purchase_amount\": 0}, inplace=True)\n",
    "\n",
    "# Convert the date column to datetime format.\n",
    "df_merged[\"date\"] = pd.to_datetime(df_merged[\"date\"])\n"
   ]
  },
  {
   "cell_type": "markdown",
   "id": "cd2e6a35",
   "metadata": {},
   "source": [
    "## Exercise 2: Handle Missing Survey Data\n",
    "\n",
    "You receive a DataFrame df_survey with columns:\n",
    "\n",
    "`['id', 'age', 'income', 'feedback']`"
   ]
  },
  {
   "cell_type": "code",
   "execution_count": 4,
   "id": "75cd98ac",
   "metadata": {},
   "outputs": [],
   "source": [
    "df_survey = pd.DataFrame({\n",
    "    'id': [101, 102, 103, 104, 105],\n",
    "    'age': [25, np.nan, 45, 62, np.nan],\n",
    "    'income': [50000, 60000, np.nan, 72000, np.nan],\n",
    "    'feedback': ['Good', None, 'Bad', None, 'Okay']\n",
    "})"
   ]
  },
  {
   "cell_type": "markdown",
   "id": "94b9bdc0",
   "metadata": {},
   "source": [
    "Drop rows where both `age` and `income` are missing.\n",
    "\n",
    "Fill missing income values with the median income.\n",
    "\n",
    "Replace missing feedback with the string \"No feedback provided\".\n",
    "\n",
    "Create a new column age_group:\n",
    "\n",
    "- $< 30$ → 'young'\n",
    "\n",
    "- 30–60 → 'middle-aged'\n",
    "\n",
    "- $> 60$ → 'senior'"
   ]
  },
  {
   "cell_type": "code",
   "execution_count": 5,
   "id": "933cad1b",
   "metadata": {},
   "outputs": [],
   "source": [
    "# Drop rows where both `age` and `income` are missing.\n",
    "df_survey.dropna(subset=[\"age\", \"income\"], how=\"all\", inplace=True)\n",
    "\n",
    "# Fill missing income values with the median income.\n",
    "median_income = df_survey[\"income\"].median()\n",
    "df_survey.fillna({\"income\": median_income}, inplace=True)\n",
    "\n",
    "# Replace missing feedback with the string \"No feedback provided\".\n",
    "df_survey.fillna({\"feedback\" : \"No feedback provided\"}, inplace=True)\n",
    "\n",
    "# Create a new column age_group\n",
    "def categorize(row):\n",
    "    if row[\"age\"] < 30:\n",
    "        return \"young\"\n",
    "    elif row[\"age\"] >=30 and row[\"age\"] <= 60:\n",
    "        return \"middle-aged\"\n",
    "    elif row[\"age\"] > 60:\n",
    "        return \"senior\"\n",
    "\n",
    "df_survey[\"age_group\"] = df_survey.apply(categorize, axis=1)"
   ]
  },
  {
   "cell_type": "markdown",
   "id": "9e5caa5f",
   "metadata": {},
   "source": [
    "## Exercise 3: Filter and transform sales records\n",
    "\n",
    "You have a DataFrame `df_sales`:\n",
    "\n",
    "`['product_id', 'price', 'quantity', 'region']`\n",
    "\n"
   ]
  },
  {
   "cell_type": "code",
   "execution_count": 6,
   "id": "94a87d83",
   "metadata": {},
   "outputs": [],
   "source": [
    "df_sales = pd.DataFrame({\n",
    "    'product_id': ['A1', 'A2', 'A3', 'A4', 'A5'],\n",
    "    'price': [100.0, -50.0, np.nan, 75.0, 120.0],\n",
    "    'quantity': [1, 2, 3, None, 5],\n",
    "    'region': ['north', 'south', 'east', 'west', 'north']\n",
    "})"
   ]
  },
  {
   "cell_type": "markdown",
   "id": "e0dcfdbc",
   "metadata": {},
   "source": [
    "Remove rows where either `price` or `quantity` is NaN.\n",
    "\n",
    "Replace any negative prices with NaN, then fill those with the median price.\n",
    "\n",
    "Create a new column `revenue = price * quantity`.\n",
    "\n",
    "Convert the `region` column to uppercase.\n",
    "\n",
    "Rename the column `product_id` to `sku`."
   ]
  },
  {
   "cell_type": "code",
   "execution_count": 7,
   "id": "ef2cb8e7",
   "metadata": {},
   "outputs": [],
   "source": [
    "# Remove rows where either `price` or `quantity` is NaN.\n",
    "df_sales.dropna(subset=[\"price\", \"quantity\"], how=\"any\", inplace=True)\n",
    "\n",
    "# Replace any negative prices with NaN, then fill those with the median price.\n",
    "df_sales[\"price\"] = np.where(df_sales[\"price\"] < 0, np.nan, df_sales[\"price\"])\n",
    "median_price = df_sales[\"price\"].median()\n",
    "df_sales.fillna({\"price\": median_price}, inplace=True)\n",
    "\n",
    "# Create a new column `revenue = price * quantity`.\n",
    "df_sales[\"revenue\"] = df_sales[\"price\"] * df_sales[\"quantity\"]\n",
    "\n",
    "# Convert the `region` column to uppercase.\n",
    "df_sales[\"region\"] = df_sales[\"region\"].str.upper()\n",
    "\n",
    "# Rename the column `product_id` to `sku`.\n",
    "df_sales.rename(columns={\"product_id\" : \"sku\"}, inplace=True)"
   ]
  }
 ],
 "metadata": {
  "kernelspec": {
   "display_name": "venv-ab-test-causal",
   "language": "python",
   "name": "python3"
  },
  "language_info": {
   "codemirror_mode": {
    "name": "ipython",
    "version": 3
   },
   "file_extension": ".py",
   "mimetype": "text/x-python",
   "name": "python",
   "nbconvert_exporter": "python",
   "pygments_lexer": "ipython3",
   "version": "3.12.3"
  }
 },
 "nbformat": 4,
 "nbformat_minor": 5
}
