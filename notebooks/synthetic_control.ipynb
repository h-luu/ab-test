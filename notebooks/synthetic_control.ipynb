{
 "cells": [
  {
   "cell_type": "markdown",
   "id": "03c31814",
   "metadata": {},
   "source": [
    "# Synthetic control"
   ]
  },
  {
   "cell_type": "markdown",
   "id": "0275318f",
   "metadata": {},
   "source": [
    "In this notebook, we simulate a panel dataset, then demonstrate the use of synthetic control to estimate causal effect."
   ]
  },
  {
   "cell_type": "markdown",
   "id": "539e77f3",
   "metadata": {},
   "source": [
    "## Data generating process"
   ]
  },
  {
   "cell_type": "markdown",
   "id": "7544b159",
   "metadata": {},
   "source": [
    "### Dynamic factor model"
   ]
  },
  {
   "cell_type": "markdown",
   "id": "7105f350",
   "metadata": {
    "vscode": {
     "languageId": "plaintext"
    }
   },
   "source": [
    "For the data-generating process, we employ a dynamic factor model.  In this framework, we posit the existence of some latent factors that drive the evolution of the outcomes across time.  This makes it a natural choice for simulating panel data: it allows us to generate data time series data for each unit in our sample, while letting each unit respond differently to the common underlying trends.  \n"
   ]
  },
  {
   "cell_type": "markdown",
   "id": "bfead6a4",
   "metadata": {
    "vscode": {
     "languageId": "plaintext"
    }
   },
   "source": [
    "Outcomes for each unit $i$ at time $t$ is specified as:\n",
    "$$ \n",
    "\\begin{align*}\n",
    "Y_{it} = \\sum_{k=1}^{K} \\lambda_{ik} f_{kt} + \\epsilon_{it}\n",
    "\\end{align*}\n",
    "$$\n",
    "where:\n",
    "- $f_{kt}$ denote the time-varying latent factors. There are a total of $K$ latent factors.\n",
    "- $\\lambda_{ik}$ denote the unit-specific factor loadings.\n",
    "- $\\epsilon_{it}$ is idiosyncratic noise."
   ]
  },
  {
   "cell_type": "markdown",
   "id": "f884f52c",
   "metadata": {},
   "source": [
    "For a survey on dynamic factor models, see Stock and Watson, \"Dynamic factor models\", (2010): https://swh.princeton.edu/~mwatson/papers/dfm_oup_4.pdf\n",
    "\n"
   ]
  },
  {
   "cell_type": "markdown",
   "id": "125caea7",
   "metadata": {},
   "source": [
    "### Generating panel dataset"
   ]
  },
  {
   "cell_type": "markdown",
   "id": "c1b04855",
   "metadata": {},
   "source": [
    "For concreteness, let's assume we are interested in measuring a certain outcome at the city-level across time.  Perhaps our marketing team ran a billboard campaign in a selected city, and we want to measure the effect of those campaigns on sales.  We will generate a panel dataset of sales at the city-month level.\n",
    "\n",
    "We can consider adding a few city-specific observables such as population and average household income.  For now, let's keep things simple and focus only on generating the outcome variable.\n",
    "\n",
    "Note that this setting can be applied to other business cases.  For example, a digital e-commerce company may decide open physical stores in a few locations, and wants to estimate the impact (if any) of those physical stores.  A two-sided platform might implement a new matching algorithm in a certain geographic market, and wants to examine the algorithm's effect."
   ]
  },
  {
   "cell_type": "code",
   "execution_count": 13,
   "id": "322e454a",
   "metadata": {},
   "outputs": [],
   "source": [
    "import numpy as np\n",
    "import pandas as pd\n",
    "\n",
    "# Set parameters\n",
    "np.random.seed(42)\n",
    "J = 40            # number of cities\n",
    "T = 30            # total months\n",
    "K = 2             # number of factors\n",
    "T0 = 20       # treatment starts\n",
    "sigma_noise = 0.5\n",
    "\n",
    "# Create base factors (latent variables that influence outcomes)\n",
    "months = np.arange(T)\n",
    "factors = np.array([\n",
    "    np.sin(months / 5),\n",
    "    np.cos(months / 7)\n",
    "])\n",
    "\n",
    "# Create the loadings (size J by K)\n",
    "mean_loading = np.random.standard_normal(size=(J,K))\n",
    "\n",
    "# Calculate each city's response to the latent factors over time, then add a random noise\n",
    "response = mean_loading @ factors\n",
    "noise = np.random.normal(loc=0, scale=sigma_noise, size=response.shape)\n",
    "response += noise\n",
    "\n",
    "# Add treatment effect to city_0 after T0\n",
    "treated_city_idx = 0\n",
    "response[treated_city_idx, T0:] += 2.0  # example effect"
   ]
  },
  {
   "cell_type": "markdown",
   "id": "1dc63506",
   "metadata": {},
   "source": [
    "We now have the response matrix, all that's left to do is reshaping it into a long-format dataframe."
   ]
  },
  {
   "cell_type": "code",
   "execution_count": 14,
   "id": "60846501",
   "metadata": {},
   "outputs": [],
   "source": [
    "# Create city and month labels\n",
    "cities = [f'city_{i}' for i in range(J)]\n",
    "\n",
    "# Flatten response matrix into long format\n",
    "df = pd.DataFrame({\n",
    "    'city': np.repeat(cities, T),\n",
    "    'month': np.tile(months, J),\n",
    "    'outcome': response.flatten()\n",
    "})\n",
    "\n",
    "# Add treatment indicators\n",
    "df['treated'] = (df['city'] == 'city_0').astype(int)\n",
    "df['post_treatment'] = (df['month'] >= T0).astype(int)\n",
    "df['treatment'] = df['treated'] * df['post_treatment']\n",
    "\n"
   ]
  },
  {
   "cell_type": "markdown",
   "id": "98e5fe5b",
   "metadata": {},
   "source": [
    "We can proceed to graph the outcome trends by city, then fit a synthetic control model."
   ]
  }
 ],
 "metadata": {
  "kernelspec": {
   "display_name": "venv-ab-test-causal",
   "language": "python",
   "name": "python3"
  },
  "language_info": {
   "codemirror_mode": {
    "name": "ipython",
    "version": 3
   },
   "file_extension": ".py",
   "mimetype": "text/x-python",
   "name": "python",
   "nbconvert_exporter": "python",
   "pygments_lexer": "ipython3",
   "version": "3.12.3"
  }
 },
 "nbformat": 4,
 "nbformat_minor": 5
}
