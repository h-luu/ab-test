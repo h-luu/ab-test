{
 "cells": [
  {
   "cell_type": "markdown",
   "id": "dad194ee",
   "metadata": {},
   "source": [
    "X is binomial (yes/no)\n",
    "\n",
    "X can be conversion (yes/no), clicked an ad (yes/no), signed up for newsletter or membership (yes/no)"
   ]
  },
  {
   "cell_type": "code",
   "execution_count": null,
   "id": "fe7459bc",
   "metadata": {},
   "outputs": [],
   "source": [
    "conversion = np.random.binomial(n=1, p=0.1, size=1000)"
   ]
  }
 ],
 "metadata": {
  "language_info": {
   "name": "python"
  }
 },
 "nbformat": 4,
 "nbformat_minor": 5
}
